{
 "cells": [
  {
   "cell_type": "code",
   "execution_count": 1,
   "metadata": {},
   "outputs": [],
   "source": [
    "%matplotlib inline"
   ]
  },
  {
   "cell_type": "code",
   "execution_count": 2,
   "metadata": {},
   "outputs": [],
   "source": [
    "from helpers_savage import parse_savages_data, parse_sale_data, parse_listing_data\n",
    "\n",
    "import requests\n",
    "import pandas as pd\n",
    "from pandas_profiling import ProfileReport\n",
    "import pickle\n",
    "\n",
    "from statistics import *\n",
    "\n",
    "import matplotlib\n",
    "import matplotlib.pyplot as plt\n",
    "import seaborn as sns\n",
    "plt.style.use('ggplot')\n",
    "\n",
    "import time\n",
    "from datetime import date, timedelta, datetime\n",
    "\n",
    "import os\n",
    "import glob"
   ]
  },
  {
   "cell_type": "markdown",
   "metadata": {},
   "source": [
    "#### Getting savages Assets Data\n",
    "\n",
    "The code below collects assets data about the 10,101 savages. The API has a limit of 50 items per call, and therefore we need to create a loop with 204 iterations to collect all savages data.\n",
    "\n",
    "##### savage Data Parsed:\n",
    "- 'savage_id'\n",
    "- 'creator_username'\n",
    "- 'creator_address'\n",
    "- 'owner_username'\n",
    "- 'owner_address'\n",
    "- 'traits'\n",
    "- 'num_sales'"
   ]
  },
  {
   "cell_type": "code",
   "execution_count": 13,
   "metadata": {},
   "outputs": [],
   "source": [
    "def download_savages_info(save_location):\n",
    "    url = \"https://api.opensea.io/api/v1/assets\"\n",
    "    listometas = []\n",
    "\n",
    "    for i in range(0, 204):\n",
    "        time.sleep(.5)\n",
    "        querystring = {\"token_ids\":list(range((i*50), (i*50)+50)),\n",
    "                       \"asset_contract_address\":\"0xF08f985168640d77c87BF14C603351ad10F484A3\",\n",
    "                       \"order_direction\":\"desc\",\n",
    "                       \"offset\":\"0\",\n",
    "                       \"limit\":\"50\"}\n",
    "        response = requests.request(\"GET\", url, params=querystring)\n",
    "\n",
    "        print(i, end=\" \")\n",
    "        if response.status_code != 200:\n",
    "            print('error')\n",
    "            print(response.json())\n",
    "            break\n",
    "            \n",
    "\n",
    "        # Getting savages data\n",
    "        savages = response.json()['assets']\n",
    "        \n",
    "        if savages == []:\n",
    "            break\n",
    "        # Parsing savages data\n",
    "        parsed_savages = [parse_savages_data(savage) for savage in savages]\n",
    "        # storing parsed savages data into list\n",
    "        listometas.append(parsed_savages)\n",
    "    \n",
    "    # Flatten everything into one list\n",
    "    listometas = [item for sublist in listometas for item in sublist]\n",
    "    # Convert to df\n",
    "    savages_df = pd.DataFrame(listometas)\n",
    "    \n",
    "    with open(save_location + 'savages_df'+str(date.today())+r'.pkl', 'wb') as f:\n",
    "        pickle.dump(savages_df, f)"
   ]
  },
  {
   "cell_type": "markdown",
   "metadata": {},
   "source": [
    "#### Getting savages sales transactions data\n",
    "\n",
    "The code below collects all sale transactions data. \n",
    "The API has a limit of 300 items per call and 10,000 items total / response. \n",
    "Days with > 10,000 sales will require chunking (built in) but most projects aren't there yet.\n",
    "\n",
    "##### Sales Data Parsed\n",
    "- 'is_bundle'\n",
    "- 'savage_id'\n",
    "- 'seller_address'\n",
    "- 'buyer_address'\n",
    "- 'buyer_username'\n",
    "- 'seller_username'\n",
    "- 'timestamp'\n",
    "- 'total_price'\n",
    "- 'payment_token'\n",
    "- 'usd_price'\n",
    "- 'transaction_hash'"
   ]
  },
  {
   "cell_type": "code",
   "execution_count": 14,
   "metadata": {},
   "outputs": [],
   "source": [
    "# Download sales info from start_date to end _date and save them all into their own day's files\n",
    "# Default values to first sale ever 7/30/21 to today\n",
    "def download_sales_info(save_location, start_date = date(2021, 7, 30), end_date = date.today()):\n",
    "    url = \"https://api.opensea.io/api/v1/events\"\n",
    "    # get the number of days that we want to download and save sales for\n",
    "    delta = end_date - start_date\n",
    "    count_days = int(delta.days)\n",
    "    \n",
    "    for i in range(count_days+1):\n",
    "        sales_that_day = []\n",
    "        # set start and end of the day we are checking, if it's today set end to current time\n",
    "        if date.today() == (start_date + timedelta(days=i)):\n",
    "            before = datetime.now()\n",
    "            after = datetime.combine((start_date + timedelta(days=i)), datetime.min.time())\n",
    "        else:\n",
    "            before = datetime.combine((start_date + timedelta(days=i+1)), datetime.min.time())\n",
    "            after = datetime.combine((start_date + timedelta(days=i)), datetime.min.time())\n",
    "        # There are too many transactions, now have to break them up by chunks in the day\n",
    "        hour_chunks = 24\n",
    "        chunk_count = 24/hour_chunks\n",
    "        time.sleep(.5)\n",
    "        for chunk in range(int(chunk_count)):\n",
    "            end = False\n",
    "            for j in range(0, 100):\n",
    "                # add the hour_chunk to the start of the day (after) time for each chunk\n",
    "                # use the actual before if we pass it chronologically though\n",
    "                changed_before = after + timedelta(hours=hour_chunks*(chunk+1)) - timedelta(minutes = 1)\n",
    "                changed_after = after + timedelta(hours = hour_chunks*(chunk))\n",
    "                \n",
    "                # this should only happen on the last chunk of a split day or if on current day\n",
    "                if before < changed_before:\n",
    "                    changed_before = before\n",
    "                    end = True\n",
    "\n",
    "                querystring = {\"asset_contract_address\":\"0xF08f985168640d77c87BF14C603351ad10F484A3\",\n",
    "                               \"event_type\":\"successful\",\n",
    "                               \"only_opensea\":\"true\",\n",
    "                               \"offset\":j*300,\n",
    "                               \"occurred_before\":changed_before,\n",
    "                               \"occurred_after\":changed_after,\n",
    "                               \"limit\":\"300\"}\n",
    "                headers = {\"Accept\": \"application/json\"}\n",
    "\n",
    "                response = requests.request(\"GET\", url, headers=headers, params=querystring)\n",
    "\n",
    "\n",
    "                print(j, end=\" \")\n",
    "                if response.status_code != 200:\n",
    "                    print('error')\n",
    "                    print(response.json())\n",
    "                    break\n",
    "\n",
    "                #Getting savages sales data\n",
    "                savage_sales = response.json()['asset_events']\n",
    "\n",
    "                if savage_sales == []:\n",
    "                    keepgoing = False\n",
    "                    break\n",
    "\n",
    "                # Parsing savages sales data\n",
    "                parsed_savage_sales = [parse_sale_data(sale) for sale in savage_sales]\n",
    "                # storing parsed savages data into list\n",
    "                sales_that_day.append(parsed_savage_sales)\n",
    "                # check if the last date in the list is the same day as \n",
    "                last_date = (datetime.strptime(parsed_savage_sales[0]['timestamp'], '%Y-%m-%dT%H:%M:%S'))\n",
    "                print(last_date)\n",
    "            if end:\n",
    "                break\n",
    "        sales_that_day = [item for sublist in sales_that_day for item in sublist]\n",
    "        \n",
    "        print(str(len(sales_that_day))+ \" sales saved to\" + save_location + \"savages_sales_list_\" + str(start_date + timedelta(days=i))+'.pkl')\n",
    "        with open(save_location + \"savages_sales_list_\" + str(start_date + timedelta(days=i))+'.pkl', 'wb') as f:\n",
    "            pickle.dump(sales_that_day, f)\n"
   ]
  },
  {
   "cell_type": "markdown",
   "metadata": {},
   "source": [
    "#### Getting savages listings transactions data\n",
    "\n",
    "The code below collects all listings of savages on OpenSea. \n",
    "The API has a limit of 300 items per call and 10,000 items total / response. \n",
    "Days with > 10,000 listings will require chunking (built in).\n",
    "\n",
    "\n",
    "##### Listing Data Parsed:\n",
    "- 'is_bundle'\n",
    "- 'savage_id'\n",
    "- 'seller_address'\n",
    "- 'seller_username'\n",
    "- 'created_date'\n",
    "- 'starting_price'\n",
    "- 'payment_token'\n",
    "- 'usd_price'"
   ]
  },
  {
   "cell_type": "code",
   "execution_count": 15,
   "metadata": {},
   "outputs": [],
   "source": [
    "# Download listings info from start_date to end _date and save them all into their own day's files\n",
    "# Default values to first listing ever 7/30/21 to today\n",
    "def download_listings_info(save_location, start_date = date(2021, 7, 30), end_date = date.today()):\n",
    "    url = \"https://api.opensea.io/api/v1/events\"\n",
    "    # get the number of days that we want to download and save listings for\n",
    "    delta = end_date - start_date\n",
    "    count_days = int(delta.days)\n",
    "    \n",
    "    for i in range(count_days+1):\n",
    "        listings_that_day = []\n",
    "        # set start and end of the day we are checking, if it's today set end to current time\n",
    "        if date.today() == (start_date + timedelta(days=i)):\n",
    "            before = datetime.now()\n",
    "            after = datetime.combine((start_date + timedelta(days=i)), datetime.min.time())\n",
    "        else:\n",
    "            before = datetime.combine((start_date + timedelta(days=i+1)), datetime.min.time())\n",
    "            after = datetime.combine((start_date + timedelta(days=i)), datetime.min.time())\n",
    "        # There are too many transactions, now have to break them up by chunks in the day\n",
    "        hour_chunks = 24\n",
    "        chunk_count = 24/hour_chunks\n",
    "        time.sleep(.5)\n",
    "        for chunk in range(int(chunk_count)):\n",
    "            end = False\n",
    "            for j in range(0, 35):\n",
    "                # add the hour_chunk to the start of the day (after) time for each chunk\n",
    "                # use the actual before if we pass it chronologically though\n",
    "                changed_before = after + timedelta(hours=hour_chunks*(chunk+1)) - timedelta(minutes = 1)\n",
    "                changed_after = after + timedelta(hours = hour_chunks*(chunk))\n",
    "                \n",
    "                # this should only happen on the last chunk of a split day or if on current day\n",
    "                if before < changed_before:\n",
    "                    changed_before = before\n",
    "                    end = True\n",
    "\n",
    "                querystring = {\"asset_contract_address\":\"0xF08f985168640d77c87BF14C603351ad10F484A3\",\n",
    "                               \"event_type\":\"created\",\n",
    "                               \"only_opensea\":\"true\",\n",
    "                               \"offset\":j*300,\n",
    "                               \"occurred_before\":changed_before,\n",
    "                               \"occurred_after\":changed_after,\n",
    "                               \"limit\":\"300\"}\n",
    "                headers = {\"Accept\": \"application/json\"}\n",
    "\n",
    "                response = requests.request(\"GET\", url, headers=headers, params=querystring)\n",
    "\n",
    "\n",
    "                print(j, end=\" \")\n",
    "                if response.status_code != 200:\n",
    "                    print('error')\n",
    "                    print(response.json())\n",
    "                    break\n",
    "\n",
    "                #Getting savages listings data\n",
    "                savage_listings = response.json()['asset_events']\n",
    "\n",
    "                if savage_listings == []:\n",
    "                    keepgoing = False\n",
    "                    break\n",
    "\n",
    "                # Parsing savages listings data\n",
    "                parsed_savage_listings = [parse_listing_data(listing) for listing in savage_listings]\n",
    "                # storing parsed savages data into list\n",
    "                listings_that_day.append(parsed_savage_listings)\n",
    "                # check if the last date in the list is the same day as \n",
    "                print(parsed_savage_listings[0]['created_date'])\n",
    "            if end:\n",
    "                break\n",
    "        listings_that_day = [item for sublist in listings_that_day for item in sublist]\n",
    "        \n",
    "        print(str(len(listings_that_day))+ \" listings saved to\" + save_location +\n",
    "              \"savages_listings_list_\" + str(start_date + timedelta(days=i))+'.pkl')\n",
    "        with open(save_location + \"savages_listings_list_\" + str(start_date + timedelta(days=i))+'.pkl', 'wb') as f:\n",
    "            pickle.dump(listings_that_day, f)"
   ]
  },
  {
   "cell_type": "markdown",
   "metadata": {},
   "source": [
    "#### Each of the download files saves a pickled list / DF  of their information which can be loaded below for analysis\n",
    "Sales and Listings downloads support start_date and end_date to avoid taking extra time to download old days of data. "
   ]
  },
  {
   "cell_type": "code",
   "execution_count": 16,
   "metadata": {},
   "outputs": [
    {
     "name": "stdout",
     "output_type": "stream",
     "text": [
      "0 1 2 0 0 sales saved to./data/savages_sales_list_2021-06-19.pkl\n",
      "0 0 sales saved to./data/savages_sales_list_2021-06-20.pkl\n",
      "0 0 sales saved to./data/savages_sales_list_2021-06-21.pkl\n",
      "0 0 sales saved to./data/savages_sales_list_2021-06-22.pkl\n",
      "0 0 sales saved to./data/savages_sales_list_2021-06-23.pkl\n",
      "0 0 sales saved to./data/savages_sales_list_2021-06-24.pkl\n",
      "0 2021-06-25 03:57:53\n",
      "1 1 sales saved to./data/savages_sales_list_2021-06-25.pkl\n",
      "0 2021-06-26 00:34:40\n",
      "1 1 sales saved to./data/savages_sales_list_2021-06-26.pkl\n",
      "0 0 sales saved to./data/savages_sales_list_2021-06-27.pkl\n",
      "0 0 sales saved to./data/savages_sales_list_2021-06-28.pkl\n",
      "0 0 sales saved to./data/savages_sales_list_2021-06-29.pkl\n",
      "0 0 sales saved to./data/savages_sales_list_2021-06-30.pkl\n",
      "0 2021-07-01 11:48:22\n",
      "1 1 sales saved to./data/savages_sales_list_2021-07-01.pkl\n",
      "0 0 sales saved to./data/savages_sales_list_2021-07-02.pkl\n",
      "0 0 sales saved to./data/savages_sales_list_2021-07-03.pkl\n",
      "0 2021-07-04 15:41:15\n",
      "1 1 sales saved to./data/savages_sales_list_2021-07-04.pkl\n",
      "0 2021-07-05 21:23:20\n",
      "1 2 sales saved to./data/savages_sales_list_2021-07-05.pkl\n",
      "0 2021-07-06 01:07:46\n",
      "1 1 sales saved to./data/savages_sales_list_2021-07-06.pkl\n",
      "0 0 sales saved to./data/savages_sales_list_2021-07-07.pkl\n",
      "0 0 sales saved to./data/savages_sales_list_2021-07-08.pkl\n",
      "0 2021-07-09 05:42:19\n",
      "1 1 sales saved to./data/savages_sales_list_2021-07-09.pkl\n",
      "0 0 sales saved to./data/savages_sales_list_2021-07-10.pkl\n",
      "0 0 sales saved to./data/savages_sales_list_2021-07-11.pkl\n",
      "0 0 sales saved to./data/savages_sales_list_2021-07-12.pkl\n",
      "0 0 sales saved to./data/savages_sales_list_2021-07-13.pkl\n",
      "0 0 sales saved to./data/savages_sales_list_2021-07-14.pkl\n",
      "0 0 sales saved to./data/savages_sales_list_2021-07-15.pkl\n",
      "0 0 sales saved to./data/savages_sales_list_2021-07-16.pkl\n",
      "0 2021-07-17 07:13:03\n",
      "1 1 sales saved to./data/savages_sales_list_2021-07-17.pkl\n",
      "0 2021-07-18 07:38:54\n",
      "1 1 sales saved to./data/savages_sales_list_2021-07-18.pkl\n",
      "0 2021-07-19 07:27:42\n",
      "1 1 sales saved to./data/savages_sales_list_2021-07-19.pkl\n",
      "0 2021-07-20 07:21:09\n",
      "1 1 sales saved to./data/savages_sales_list_2021-07-20.pkl\n",
      "0 2021-07-21 06:44:18\n",
      "1 1 sales saved to./data/savages_sales_list_2021-07-21.pkl\n",
      "0 2021-07-22 06:14:09\n",
      "1 1 sales saved to./data/savages_sales_list_2021-07-22.pkl\n",
      "0 2021-07-23 06:42:53\n",
      "1 1 sales saved to./data/savages_sales_list_2021-07-23.pkl\n",
      "0 2021-07-24 17:09:11\n",
      "1 2 sales saved to./data/savages_sales_list_2021-07-24.pkl\n",
      "0 0 sales saved to./data/savages_sales_list_2021-07-25.pkl\n",
      "0 0 sales saved to./data/savages_sales_list_2021-07-26.pkl\n",
      "0 0 sales saved to./data/savages_sales_list_2021-07-27.pkl\n",
      "0 0 sales saved to./data/savages_sales_list_2021-07-28.pkl\n",
      "0 2021-07-29 19:23:15\n",
      "1 1 sales saved to./data/savages_sales_list_2021-07-29.pkl\n",
      "0 2021-07-30 21:37:56\n",
      "1 1 sales saved to./data/savages_sales_list_2021-07-30.pkl\n",
      "0 0 sales saved to./data/savages_sales_list_2021-07-31.pkl\n",
      "0 0 sales saved to./data/savages_sales_list_2021-08-01.pkl\n",
      "0 0 sales saved to./data/savages_sales_list_2021-08-02.pkl\n",
      "0 0 sales saved to./data/savages_sales_list_2021-08-03.pkl\n",
      "0 0 sales saved to./data/savages_sales_list_2021-08-04.pkl\n",
      "0 2021-08-05 20:54:19\n",
      "1 2 sales saved to./data/savages_sales_list_2021-08-05.pkl\n",
      "0 0 sales saved to./data/savages_sales_list_2021-08-06.pkl\n",
      "0 0 sales saved to./data/savages_sales_list_2021-08-07.pkl\n",
      "0 0 sales saved to./data/savages_sales_list_2021-08-08.pkl\n",
      "0 0 sales saved to./data/savages_sales_list_2021-08-09.pkl\n",
      "0 0 listings saved to./data/savages_listings_list_2021-06-19.pkl\n",
      "0 0 listings saved to./data/savages_listings_list_2021-06-20.pkl\n",
      "0 0 listings saved to./data/savages_listings_list_2021-06-21.pkl\n",
      "0 0 listings saved to./data/savages_listings_list_2021-06-22.pkl\n",
      "0 0 listings saved to./data/savages_listings_list_2021-06-23.pkl\n",
      "0 0 listings saved to./data/savages_listings_list_2021-06-24.pkl\n",
      "0 2021-06-25T03:55:42.781087\n",
      "1 1 listings saved to./data/savages_listings_list_2021-06-25.pkl\n",
      "0 2021-06-26T00:30:34.272029\n",
      "1 1 listings saved to./data/savages_listings_list_2021-06-26.pkl\n",
      "0 0 listings saved to./data/savages_listings_list_2021-06-27.pkl\n",
      "0 0 listings saved to./data/savages_listings_list_2021-06-28.pkl\n",
      "0 0 listings saved to./data/savages_listings_list_2021-06-29.pkl\n",
      "0 0 listings saved to./data/savages_listings_list_2021-06-30.pkl\n",
      "0 2021-07-01T06:19:04.275835\n",
      "1 1 listings saved to./data/savages_listings_list_2021-07-01.pkl\n",
      "0 0 listings saved to./data/savages_listings_list_2021-07-02.pkl\n",
      "0 0 listings saved to./data/savages_listings_list_2021-07-03.pkl\n",
      "0 2021-07-04T15:09:50.845988\n",
      "1 1 listings saved to./data/savages_listings_list_2021-07-04.pkl\n",
      "0 2021-07-05T17:42:02.210701\n",
      "1 2 listings saved to./data/savages_listings_list_2021-07-05.pkl\n",
      "0 2021-07-06T00:58:55.160599\n",
      "1 1 listings saved to./data/savages_listings_list_2021-07-06.pkl\n",
      "0 0 listings saved to./data/savages_listings_list_2021-07-07.pkl\n",
      "0 0 listings saved to./data/savages_listings_list_2021-07-08.pkl\n",
      "0 2021-07-09T05:37:11.548906\n",
      "1 1 listings saved to./data/savages_listings_list_2021-07-09.pkl\n",
      "0 0 listings saved to./data/savages_listings_list_2021-07-10.pkl\n",
      "0 0 listings saved to./data/savages_listings_list_2021-07-11.pkl\n",
      "0 0 listings saved to./data/savages_listings_list_2021-07-12.pkl\n",
      "0 0 listings saved to./data/savages_listings_list_2021-07-13.pkl\n",
      "0 0 listings saved to./data/savages_listings_list_2021-07-14.pkl\n",
      "0 0 listings saved to./data/savages_listings_list_2021-07-15.pkl\n",
      "0 0 listings saved to./data/savages_listings_list_2021-07-16.pkl\n",
      "0 2021-07-17T07:11:17.611253\n",
      "1 1 listings saved to./data/savages_listings_list_2021-07-17.pkl\n",
      "0 2021-07-18T06:11:28.552730\n",
      "1 1 listings saved to./data/savages_listings_list_2021-07-18.pkl\n",
      "0 2021-07-19T07:21:51.356274\n",
      "1 1 listings saved to./data/savages_listings_list_2021-07-19.pkl\n",
      "0 2021-07-20T13:44:56.550429\n",
      "1 2 listings saved to./data/savages_listings_list_2021-07-20.pkl\n",
      "0 2021-07-21T16:50:44.204204\n",
      "1 2 listings saved to./data/savages_listings_list_2021-07-21.pkl\n",
      "0 2021-07-22T22:33:22.607743\n",
      "1 2 listings saved to./data/savages_listings_list_2021-07-22.pkl\n",
      "0 2021-07-23T06:33:50.947386\n",
      "1 1 listings saved to./data/savages_listings_list_2021-07-23.pkl\n",
      "0 2021-07-24T16:27:45.545803\n",
      "1 2 listings saved to./data/savages_listings_list_2021-07-24.pkl\n",
      "0 0 listings saved to./data/savages_listings_list_2021-07-25.pkl\n",
      "0 0 listings saved to./data/savages_listings_list_2021-07-26.pkl\n",
      "0 0 listings saved to./data/savages_listings_list_2021-07-27.pkl\n",
      "0 0 listings saved to./data/savages_listings_list_2021-07-28.pkl\n",
      "0 2021-07-29T17:57:51.582719\n",
      "1 1 listings saved to./data/savages_listings_list_2021-07-29.pkl\n",
      "0 2021-07-30T21:23:51.602648\n",
      "1 1 listings saved to./data/savages_listings_list_2021-07-30.pkl\n",
      "0 0 listings saved to./data/savages_listings_list_2021-07-31.pkl\n",
      "0 0 listings saved to./data/savages_listings_list_2021-08-01.pkl\n",
      "0 0 listings saved to./data/savages_listings_list_2021-08-02.pkl\n",
      "0 0 listings saved to./data/savages_listings_list_2021-08-03.pkl\n",
      "0 2021-08-04T18:20:51.126601\n",
      "1 1 listings saved to./data/savages_listings_list_2021-08-04.pkl\n",
      "0 2021-08-05T06:48:58.633161\n",
      "1 1 listings saved to./data/savages_listings_list_2021-08-05.pkl\n",
      "0 0 listings saved to./data/savages_listings_list_2021-08-06.pkl\n",
      "0 2021-08-07T21:16:06.772827\n",
      "1 1 listings saved to./data/savages_listings_list_2021-08-07.pkl\n",
      "0 0 listings saved to./data/savages_listings_list_2021-08-08.pkl\n",
      "0 0 listings saved to./data/savages_listings_list_2021-08-09.pkl\n"
     ]
    }
   ],
   "source": [
    "save_location = \"./data/\"\n",
    "\n",
    "# savageS\n",
    "download_savages_info(save_location)\n",
    "\n",
    "# SALES\n",
    "# download sales info from start_date to end_date e.g. date(2021, 7, 30), date.today() - timedelta(days=1), etc.\n",
    "# defaults to first day of sales to today\n",
    "\n",
    "download_sales_info(save_location = save_location, start_date = date(2021,6,19))\n",
    "\n",
    "# LISTINGS\n",
    "# download listings info from start_date to end_date e.g. date(2021, 7, 30), date.today() - timedelta(days=1), etc.\n",
    "# defaults to first day of listings to today\n",
    "\n",
    "download_listings_info(save_location = save_location, start_date = date(2021,6,19))"
   ]
  },
  {
   "cell_type": "markdown",
   "metadata": {},
   "source": [
    "#### Functions for loading data from pickled files"
   ]
  },
  {
   "cell_type": "code",
   "execution_count": 17,
   "metadata": {},
   "outputs": [],
   "source": [
    "# load the sales lists, combine them, and turn into a DF\n",
    "def load_sales_info(save_location):\n",
    "    files = [filename for filename in os.listdir(save_location) if filename.startswith('savages_sales')]\n",
    "    all_sales = []\n",
    "    # load all files for sales by day\n",
    "    for file in files:\n",
    "        with open(str(save_location) + str(file), 'rb') as f:\n",
    "            all_sales.append(pickle.load(f))\n",
    "    \n",
    "    # flatten into one list\n",
    "    all_sales = [item for sublist in all_sales for item in sublist]\n",
    "    # convert to dataframe\n",
    "    savages_sales_df = pd.DataFrame(all_sales)\n",
    "    \n",
    "    return savages_sales_df\n",
    "\n",
    "# load the listing lists, combine them, and turn into a DF\n",
    "def load_listings_info(save_location):\n",
    "    files = [filename for filename in os.listdir(save_location) if filename.startswith('savages_listing')]\n",
    "    all_listings = []\n",
    "    # load all files for listings by day\n",
    "    for file in files:\n",
    "        with open(str(save_location) + str(file), 'rb') as f:\n",
    "            all_listings.append(pickle.load(f))\n",
    "    \n",
    "    # flatten into one list\n",
    "    all_listings = [item for sublist in all_listings for item in sublist]\n",
    "    # convert to dataframe\n",
    "    savages_listings_df = pd.DataFrame(all_listings)\n",
    "    \n",
    "    return savages_listings_df\n",
    "\n",
    "# load most recent saved savages df\n",
    "def load_savages_info(save_location):\n",
    "    files = glob.glob(str(save_location)+'savages_df????-??-??.pkl')\n",
    "    with open(max(files, key=os.path.getctime), 'rb') as f:\n",
    "        return pickle.load(f)"
   ]
  },
  {
   "cell_type": "markdown",
   "metadata": {},
   "source": [
    "#### Load and pre-process our saved files"
   ]
  },
  {
   "cell_type": "code",
   "execution_count": 18,
   "metadata": {},
   "outputs": [],
   "source": [
    "# load all our saved files\n",
    "\n",
    "# SALES\n",
    "savages_sales_df = load_sales_info(save_location)\n",
    "# Pre-processing\n",
    "# Convert price from WEI to ETH & for now get rid of bundles and duplicates(?)\n",
    "savages_sales_df = savages_sales_df[(savages_sales_df['payment_token'] != 'USDC') & (savages_sales_df['is_bundle'] == False)].copy()\n",
    "savages_sales_df = savages_sales_df.loc[savages_sales_df.astype(str).drop_duplicates().index]\n",
    "savages_sales_df['total_price'] = savages_sales_df['total_price']/10.**18\n",
    "# Change timestamp to datetime\n",
    "savages_sales_df['timestamp'] = pd.to_datetime(savages_sales_df['timestamp'])\n",
    "# Calculating the sale prices in USD\n",
    "savages_sales_df['total_price_usd'] = savages_sales_df['total_price'] * savages_sales_df['usd_price']\n",
    "\n",
    "\n",
    "# LISTINGS\n",
    "savages_listings_df = load_listings_info(save_location)\n",
    "# Pre-processing\n",
    "# Convert price from WEI to ETH & for now get rid of bundles and duplicates(?)\n",
    "savages_listings_df = savages_listings_df[(savages_listings_df['payment_token'] != 'USDC') & (savages_listings_df['is_bundle'] == False)].copy()\n",
    "savages_listings_df = savages_listings_df.loc[savages_listings_df.astype(str).drop_duplicates().index]\n",
    "savages_listings_df['starting_price'] = savages_listings_df['starting_price']/10.**18\n",
    "# Change timestamp to datetime\n",
    "savages_listings_df['created_date'] = pd.to_datetime(savages_listings_df['created_date'])\n",
    "# Calculating the sale prices in USD\n",
    "savages_listings_df['total_price_usd'] = savages_listings_df['starting_price'] * savages_listings_df['usd_price']\n",
    "\n",
    "\n",
    "# savageS\n",
    "savages_df = load_savages_info(save_location)"
   ]
  },
  {
   "cell_type": "code",
   "execution_count": 19,
   "metadata": {},
   "outputs": [
    {
     "data": {
      "text/html": [
       "<div>\n",
       "<style scoped>\n",
       "    .dataframe tbody tr th:only-of-type {\n",
       "        vertical-align: middle;\n",
       "    }\n",
       "\n",
       "    .dataframe tbody tr th {\n",
       "        vertical-align: top;\n",
       "    }\n",
       "\n",
       "    .dataframe thead th {\n",
       "        text-align: right;\n",
       "    }\n",
       "</style>\n",
       "<table border=\"1\" class=\"dataframe\">\n",
       "  <thead>\n",
       "    <tr style=\"text-align: right;\">\n",
       "      <th></th>\n",
       "      <th>savage_id</th>\n",
       "      <th>creator_username</th>\n",
       "      <th>creator_address</th>\n",
       "      <th>owner_username</th>\n",
       "      <th>owner_address</th>\n",
       "      <th>traits</th>\n",
       "      <th>num_sales</th>\n",
       "    </tr>\n",
       "  </thead>\n",
       "  <tbody>\n",
       "    <tr>\n",
       "      <th>0</th>\n",
       "      <td>20</td>\n",
       "      <td>None</td>\n",
       "      <td>None</td>\n",
       "      <td>flashrekt</td>\n",
       "      <td>0x2e0d63ffcb08ea20ff3acdbb72dfec97343885d2</td>\n",
       "      <td>[]</td>\n",
       "      <td>0</td>\n",
       "    </tr>\n",
       "    <tr>\n",
       "      <th>1</th>\n",
       "      <td>18</td>\n",
       "      <td>None</td>\n",
       "      <td>None</td>\n",
       "      <td>FI5HY</td>\n",
       "      <td>0xba764fc3aa1d03967edf9e6414b1796fdc089d5d</td>\n",
       "      <td>[]</td>\n",
       "      <td>0</td>\n",
       "    </tr>\n",
       "    <tr>\n",
       "      <th>2</th>\n",
       "      <td>17</td>\n",
       "      <td>None</td>\n",
       "      <td>None</td>\n",
       "      <td>FatBabyNFT</td>\n",
       "      <td>0xcc008786d438ba1503f96e392e2049f5b2102277</td>\n",
       "      <td>[]</td>\n",
       "      <td>0</td>\n",
       "    </tr>\n",
       "    <tr>\n",
       "      <th>3</th>\n",
       "      <td>16</td>\n",
       "      <td>None</td>\n",
       "      <td>None</td>\n",
       "      <td>Domino</td>\n",
       "      <td>0xbf46d2161045251cb97d0b41929bc1d36044e1a0</td>\n",
       "      <td>[]</td>\n",
       "      <td>0</td>\n",
       "    </tr>\n",
       "    <tr>\n",
       "      <th>4</th>\n",
       "      <td>15</td>\n",
       "      <td>None</td>\n",
       "      <td>None</td>\n",
       "      <td>CryptoGeisha</td>\n",
       "      <td>0x5c835eb9ece4c2c5786251d787ca2ea8c5020b38</td>\n",
       "      <td>[]</td>\n",
       "      <td>0</td>\n",
       "    </tr>\n",
       "  </tbody>\n",
       "</table>\n",
       "</div>"
      ],
      "text/plain": [
       "  savage_id creator_username creator_address owner_username  \\\n",
       "0        20             None            None      flashrekt   \n",
       "1        18             None            None          FI5HY   \n",
       "2        17             None            None     FatBabyNFT   \n",
       "3        16             None            None         Domino   \n",
       "4        15             None            None   CryptoGeisha   \n",
       "\n",
       "                                owner_address traits  num_sales  \n",
       "0  0x2e0d63ffcb08ea20ff3acdbb72dfec97343885d2     []          0  \n",
       "1  0xba764fc3aa1d03967edf9e6414b1796fdc089d5d     []          0  \n",
       "2  0xcc008786d438ba1503f96e392e2049f5b2102277     []          0  \n",
       "3  0xbf46d2161045251cb97d0b41929bc1d36044e1a0     []          0  \n",
       "4  0x5c835eb9ece4c2c5786251d787ca2ea8c5020b38     []          0  "
      ]
     },
     "execution_count": 19,
     "metadata": {},
     "output_type": "execute_result"
    }
   ],
   "source": [
    "savages_df.head(5)"
   ]
  },
  {
   "cell_type": "code",
   "execution_count": 20,
   "metadata": {},
   "outputs": [
    {
     "data": {
      "text/html": [
       "<div>\n",
       "<style scoped>\n",
       "    .dataframe tbody tr th:only-of-type {\n",
       "        vertical-align: middle;\n",
       "    }\n",
       "\n",
       "    .dataframe tbody tr th {\n",
       "        vertical-align: top;\n",
       "    }\n",
       "\n",
       "    .dataframe thead th {\n",
       "        text-align: right;\n",
       "    }\n",
       "</style>\n",
       "<table border=\"1\" class=\"dataframe\">\n",
       "  <thead>\n",
       "    <tr style=\"text-align: right;\">\n",
       "      <th></th>\n",
       "      <th>is_bundle</th>\n",
       "      <th>BAYC_id</th>\n",
       "      <th>seller_address</th>\n",
       "      <th>buyer_address</th>\n",
       "      <th>buyer_username</th>\n",
       "      <th>seller_username</th>\n",
       "      <th>timestamp</th>\n",
       "      <th>total_price</th>\n",
       "      <th>payment_token</th>\n",
       "      <th>usd_price</th>\n",
       "      <th>transaction_hash</th>\n",
       "      <th>total_price_usd</th>\n",
       "    </tr>\n",
       "  </thead>\n",
       "  <tbody>\n",
       "    <tr>\n",
       "      <th>16</th>\n",
       "      <td>False</td>\n",
       "      <td>63</td>\n",
       "      <td>0xfccb96245ece8c0c0ba80992a5719cba1e2f504f</td>\n",
       "      <td>0x265f4aa6fa5e8fb9b76fe465c4d1e00ffe167d22</td>\n",
       "      <td>Yeez</td>\n",
       "      <td>SavageDogs</td>\n",
       "      <td>2021-07-24 09:04:05</td>\n",
       "      <td>0.75</td>\n",
       "      <td>ETH</td>\n",
       "      <td>3141.34</td>\n",
       "      <td>0x77f34c66d4e0031c9eead0dd8388b1b144ecff95d94f...</td>\n",
       "      <td>2356.0050</td>\n",
       "    </tr>\n",
       "    <tr>\n",
       "      <th>17</th>\n",
       "      <td>False</td>\n",
       "      <td>67</td>\n",
       "      <td>0xfccb96245ece8c0c0ba80992a5719cba1e2f504f</td>\n",
       "      <td>0x44d5a0b1e165a17c16d940ca774a28e62d4b44b0</td>\n",
       "      <td>daliso</td>\n",
       "      <td>SavageDogs</td>\n",
       "      <td>2021-07-29 19:23:15</td>\n",
       "      <td>0.69</td>\n",
       "      <td>ETH</td>\n",
       "      <td>3141.34</td>\n",
       "      <td>0x879dca99b8d5ac57273d92b6c8618955de49047c1793...</td>\n",
       "      <td>2167.5246</td>\n",
       "    </tr>\n",
       "    <tr>\n",
       "      <th>18</th>\n",
       "      <td>False</td>\n",
       "      <td>68</td>\n",
       "      <td>0xfccb96245ece8c0c0ba80992a5719cba1e2f504f</td>\n",
       "      <td>0xe1ff19610020d72930aee1b9c047e35b7fd0080e</td>\n",
       "      <td>NinjaBoffin</td>\n",
       "      <td>SavageDogs</td>\n",
       "      <td>2021-07-30 21:37:56</td>\n",
       "      <td>0.70</td>\n",
       "      <td>ETH</td>\n",
       "      <td>3141.34</td>\n",
       "      <td>0xdf4a28b6ca52b3fbdc7e745c5254e444d2e53dabe469...</td>\n",
       "      <td>2198.9380</td>\n",
       "    </tr>\n",
       "    <tr>\n",
       "      <th>19</th>\n",
       "      <td>False</td>\n",
       "      <td>76</td>\n",
       "      <td>0xfccb96245ece8c0c0ba80992a5719cba1e2f504f</td>\n",
       "      <td>0x44d5a0b1e165a17c16d940ca774a28e62d4b44b0</td>\n",
       "      <td>daliso</td>\n",
       "      <td>SavageDogs</td>\n",
       "      <td>2021-08-05 20:54:19</td>\n",
       "      <td>0.69</td>\n",
       "      <td>ETH</td>\n",
       "      <td>3141.34</td>\n",
       "      <td>0x9155dd5e73de037fec572915d563b2ea07fce560261b...</td>\n",
       "      <td>2167.5246</td>\n",
       "    </tr>\n",
       "    <tr>\n",
       "      <th>20</th>\n",
       "      <td>False</td>\n",
       "      <td>77</td>\n",
       "      <td>0xfccb96245ece8c0c0ba80992a5719cba1e2f504f</td>\n",
       "      <td>0xbdc4a5c0ff7275736cad102c7408555fb5d6c495</td>\n",
       "      <td>blocknoob</td>\n",
       "      <td>SavageDogs</td>\n",
       "      <td>2021-08-05 07:09:12</td>\n",
       "      <td>0.81</td>\n",
       "      <td>ETH</td>\n",
       "      <td>3141.34</td>\n",
       "      <td>0x7801ef411107fd5c29d59736b62b622ba8ae6ba390fc...</td>\n",
       "      <td>2544.4854</td>\n",
       "    </tr>\n",
       "  </tbody>\n",
       "</table>\n",
       "</div>"
      ],
      "text/plain": [
       "    is_bundle BAYC_id                              seller_address  \\\n",
       "16      False      63  0xfccb96245ece8c0c0ba80992a5719cba1e2f504f   \n",
       "17      False      67  0xfccb96245ece8c0c0ba80992a5719cba1e2f504f   \n",
       "18      False      68  0xfccb96245ece8c0c0ba80992a5719cba1e2f504f   \n",
       "19      False      76  0xfccb96245ece8c0c0ba80992a5719cba1e2f504f   \n",
       "20      False      77  0xfccb96245ece8c0c0ba80992a5719cba1e2f504f   \n",
       "\n",
       "                                 buyer_address buyer_username seller_username  \\\n",
       "16  0x265f4aa6fa5e8fb9b76fe465c4d1e00ffe167d22           Yeez      SavageDogs   \n",
       "17  0x44d5a0b1e165a17c16d940ca774a28e62d4b44b0         daliso      SavageDogs   \n",
       "18  0xe1ff19610020d72930aee1b9c047e35b7fd0080e    NinjaBoffin      SavageDogs   \n",
       "19  0x44d5a0b1e165a17c16d940ca774a28e62d4b44b0         daliso      SavageDogs   \n",
       "20  0xbdc4a5c0ff7275736cad102c7408555fb5d6c495      blocknoob      SavageDogs   \n",
       "\n",
       "             timestamp  total_price payment_token  usd_price  \\\n",
       "16 2021-07-24 09:04:05         0.75           ETH    3141.34   \n",
       "17 2021-07-29 19:23:15         0.69           ETH    3141.34   \n",
       "18 2021-07-30 21:37:56         0.70           ETH    3141.34   \n",
       "19 2021-08-05 20:54:19         0.69           ETH    3141.34   \n",
       "20 2021-08-05 07:09:12         0.81           ETH    3141.34   \n",
       "\n",
       "                                     transaction_hash  total_price_usd  \n",
       "16  0x77f34c66d4e0031c9eead0dd8388b1b144ecff95d94f...        2356.0050  \n",
       "17  0x879dca99b8d5ac57273d92b6c8618955de49047c1793...        2167.5246  \n",
       "18  0xdf4a28b6ca52b3fbdc7e745c5254e444d2e53dabe469...        2198.9380  \n",
       "19  0x9155dd5e73de037fec572915d563b2ea07fce560261b...        2167.5246  \n",
       "20  0x7801ef411107fd5c29d59736b62b622ba8ae6ba390fc...        2544.4854  "
      ]
     },
     "execution_count": 20,
     "metadata": {},
     "output_type": "execute_result"
    }
   ],
   "source": [
    "savages_sales_df.tail(5)"
   ]
  },
  {
   "cell_type": "markdown",
   "metadata": {},
   "source": [
    "## Analyzing savages Data and savages Sale Transactions"
   ]
  },
  {
   "cell_type": "code",
   "execution_count": 21,
   "metadata": {},
   "outputs": [
    {
     "name": "stdout",
     "output_type": "stream",
     "text": [
      "The database has information about 57 savages.\n",
      "The database has information about 21 savages sale transactions.\n",
      "The database has information about 25 savages listing transactions.\n"
     ]
    }
   ],
   "source": [
    "print(\"The database has information about %d savages.\" % len(savages_df))\n",
    "print(\"The database has information about %d savages sale transactions.\" % len(savages_sales_df))\n",
    "print(\"The database has information about %d savages listing transactions.\" % len(savages_listings_df))"
   ]
  },
  {
   "cell_type": "code",
   "execution_count": 22,
   "metadata": {},
   "outputs": [
    {
     "data": {
      "text/plain": [
       "'\\nsavage_report = ProfileReport(savages_df, title=\"savages Report\", explorative=True)\\nsavage_sales_report = ProfileReport(savages_sales_df, title=\"savage Sales Report\", explorative=True)\\nsavage_report.to_file(\"savage_report.html\")\\nsavage_sales_report.to_file(\"savage_sales_report.html\")\\n'"
      ]
     },
     "execution_count": 22,
     "metadata": {},
     "output_type": "execute_result"
    }
   ],
   "source": [
    "# pandas profiling reports\n",
    "\"\"\"\n",
    "savage_report = ProfileReport(savages_df, title=\"savages Report\", explorative=True)\n",
    "savage_sales_report = ProfileReport(savages_sales_df, title=\"savage Sales Report\", explorative=True)\n",
    "savage_report.to_file(\"savage_report.html\")\n",
    "savage_sales_report.to_file(\"savage_sales_report.html\")\n",
    "\"\"\""
   ]
  },
  {
   "cell_type": "markdown",
   "metadata": {},
   "source": [
    "### Analyzing savages' Sellers and Buyers"
   ]
  },
  {
   "cell_type": "code",
   "execution_count": 23,
   "metadata": {},
   "outputs": [
    {
     "name": "stdout",
     "output_type": "stream",
     "text": [
      "There are 1 unique savage sellers.\n",
      "There are 18 unique savage buyers.\n"
     ]
    }
   ],
   "source": [
    "print(\"There are %d unique savage sellers.\" % len(savages_sales_df['seller_address'].unique()))\n",
    "print(\"There are %d unique savage buyers.\" % len(savages_sales_df['buyer_address'].unique()))"
   ]
  },
  {
   "cell_type": "markdown",
   "metadata": {},
   "source": [
    "#### Getting Top 10 savages Buyers"
   ]
  },
  {
   "cell_type": "code",
   "execution_count": 24,
   "metadata": {},
   "outputs": [
    {
     "data": {
      "text/html": [
       "<div>\n",
       "<style scoped>\n",
       "    .dataframe tbody tr th:only-of-type {\n",
       "        vertical-align: middle;\n",
       "    }\n",
       "\n",
       "    .dataframe tbody tr th {\n",
       "        vertical-align: top;\n",
       "    }\n",
       "\n",
       "    .dataframe thead th {\n",
       "        text-align: right;\n",
       "    }\n",
       "</style>\n",
       "<table border=\"1\" class=\"dataframe\">\n",
       "  <thead>\n",
       "    <tr style=\"text-align: right;\">\n",
       "      <th></th>\n",
       "      <th>buyer_address</th>\n",
       "      <th>buyer_username</th>\n",
       "      <th>number_buys</th>\n",
       "      <th>min_price</th>\n",
       "      <th>max_price</th>\n",
       "      <th>mean_price</th>\n",
       "    </tr>\n",
       "  </thead>\n",
       "  <tbody>\n",
       "    <tr>\n",
       "      <th>0</th>\n",
       "      <td>0x44d5a0b1e165a17c16d940ca774a28e62d4b44b0</td>\n",
       "      <td>daliso</td>\n",
       "      <td>3</td>\n",
       "      <td>0.69</td>\n",
       "      <td>0.75</td>\n",
       "      <td>0.710</td>\n",
       "    </tr>\n",
       "    <tr>\n",
       "      <th>1</th>\n",
       "      <td>0x1e30bf87bc3d7ea53d9d6999fe886e6b20c8c9a4</td>\n",
       "      <td>veens</td>\n",
       "      <td>2</td>\n",
       "      <td>0.80</td>\n",
       "      <td>0.95</td>\n",
       "      <td>0.875</td>\n",
       "    </tr>\n",
       "    <tr>\n",
       "      <th>2</th>\n",
       "      <td>0x9482c72cb018ee03d8c23395038b510ed4e6040c</td>\n",
       "      <td>bettor</td>\n",
       "      <td>1</td>\n",
       "      <td>0.69</td>\n",
       "      <td>0.69</td>\n",
       "      <td>0.690</td>\n",
       "    </tr>\n",
       "    <tr>\n",
       "      <th>3</th>\n",
       "      <td>0x51047ac8977d0dd35f3e1f35d75ddf81b8989f3d</td>\n",
       "      <td>cananapo</td>\n",
       "      <td>1</td>\n",
       "      <td>0.75</td>\n",
       "      <td>0.75</td>\n",
       "      <td>0.750</td>\n",
       "    </tr>\n",
       "    <tr>\n",
       "      <th>4</th>\n",
       "      <td>0xc58962d01d35a5746c1724e1a67251067eb3bc46</td>\n",
       "      <td>lol_VEVO</td>\n",
       "      <td>1</td>\n",
       "      <td>0.13</td>\n",
       "      <td>0.13</td>\n",
       "      <td>0.130</td>\n",
       "    </tr>\n",
       "    <tr>\n",
       "      <th>5</th>\n",
       "      <td>0xbdc4a5c0ff7275736cad102c7408555fb5d6c495</td>\n",
       "      <td>blocknoob</td>\n",
       "      <td>1</td>\n",
       "      <td>0.81</td>\n",
       "      <td>0.81</td>\n",
       "      <td>0.810</td>\n",
       "    </tr>\n",
       "    <tr>\n",
       "      <th>6</th>\n",
       "      <td>0x63f42bfc17b6ff3a7f487c406b8e006d0d4970c3</td>\n",
       "      <td>ultraparadise</td>\n",
       "      <td>1</td>\n",
       "      <td>0.75</td>\n",
       "      <td>0.75</td>\n",
       "      <td>0.750</td>\n",
       "    </tr>\n",
       "    <tr>\n",
       "      <th>7</th>\n",
       "      <td>0x69658f46ecc6529e18a6fceae79536c2239d5006</td>\n",
       "      <td>None</td>\n",
       "      <td>1</td>\n",
       "      <td>0.50</td>\n",
       "      <td>0.50</td>\n",
       "      <td>0.500</td>\n",
       "    </tr>\n",
       "    <tr>\n",
       "      <th>8</th>\n",
       "      <td>0x9fe2a1733b00b36ff4ca2c2883940e4d92f6e024</td>\n",
       "      <td>1337kodiak</td>\n",
       "      <td>1</td>\n",
       "      <td>0.70</td>\n",
       "      <td>0.70</td>\n",
       "      <td>0.700</td>\n",
       "    </tr>\n",
       "    <tr>\n",
       "      <th>9</th>\n",
       "      <td>0x265f4aa6fa5e8fb9b76fe465c4d1e00ffe167d22</td>\n",
       "      <td>Yeez</td>\n",
       "      <td>1</td>\n",
       "      <td>0.75</td>\n",
       "      <td>0.75</td>\n",
       "      <td>0.750</td>\n",
       "    </tr>\n",
       "  </tbody>\n",
       "</table>\n",
       "</div>"
      ],
      "text/plain": [
       "                                buyer_address buyer_username  number_buys  \\\n",
       "0  0x44d5a0b1e165a17c16d940ca774a28e62d4b44b0         daliso            3   \n",
       "1  0x1e30bf87bc3d7ea53d9d6999fe886e6b20c8c9a4          veens            2   \n",
       "2  0x9482c72cb018ee03d8c23395038b510ed4e6040c         bettor            1   \n",
       "3  0x51047ac8977d0dd35f3e1f35d75ddf81b8989f3d       cananapo            1   \n",
       "4  0xc58962d01d35a5746c1724e1a67251067eb3bc46       lol_VEVO            1   \n",
       "5  0xbdc4a5c0ff7275736cad102c7408555fb5d6c495      blocknoob            1   \n",
       "6  0x63f42bfc17b6ff3a7f487c406b8e006d0d4970c3  ultraparadise            1   \n",
       "7  0x69658f46ecc6529e18a6fceae79536c2239d5006           None            1   \n",
       "8  0x9fe2a1733b00b36ff4ca2c2883940e4d92f6e024     1337kodiak            1   \n",
       "9  0x265f4aa6fa5e8fb9b76fe465c4d1e00ffe167d22           Yeez            1   \n",
       "\n",
       "   min_price  max_price  mean_price  \n",
       "0       0.69       0.75       0.710  \n",
       "1       0.80       0.95       0.875  \n",
       "2       0.69       0.69       0.690  \n",
       "3       0.75       0.75       0.750  \n",
       "4       0.13       0.13       0.130  \n",
       "5       0.81       0.81       0.810  \n",
       "6       0.75       0.75       0.750  \n",
       "7       0.50       0.50       0.500  \n",
       "8       0.70       0.70       0.700  \n",
       "9       0.75       0.75       0.750  "
      ]
     },
     "execution_count": 24,
     "metadata": {},
     "output_type": "execute_result"
    }
   ],
   "source": [
    "buyers = []\n",
    "for buyer_address in savages_sales_df['buyer_address'].value_counts().index[:10]:\n",
    "    buyer_data = {}\n",
    "    buyer_data['buyer_address'] = buyer_address\n",
    "    buyer_data['buyer_username'] = savages_sales_df[savages_sales_df['buyer_address'] == buyer_address]['buyer_username'].iloc[0]\n",
    "    buyer_data['number_buys'] = len(savages_sales_df[savages_sales_df['buyer_address'] == buyer_address])\n",
    "    buyer_data['min_price'] = savages_sales_df[savages_sales_df['buyer_address'] == buyer_address]['total_price'].min()\n",
    "    buyer_data['max_price'] = savages_sales_df[savages_sales_df['buyer_address'] == buyer_address]['total_price'].max()\n",
    "    buyer_data['mean_price'] = savages_sales_df[savages_sales_df['buyer_address'] == buyer_address]['total_price'].mean()\n",
    "    buyers.append(buyer_data)\n",
    "    \n",
    "pd.DataFrame(buyers)"
   ]
  },
  {
   "cell_type": "markdown",
   "metadata": {},
   "source": [
    "#### Getting Top 10 savages Sellers"
   ]
  },
  {
   "cell_type": "code",
   "execution_count": 25,
   "metadata": {},
   "outputs": [
    {
     "data": {
      "text/html": [
       "<div>\n",
       "<style scoped>\n",
       "    .dataframe tbody tr th:only-of-type {\n",
       "        vertical-align: middle;\n",
       "    }\n",
       "\n",
       "    .dataframe tbody tr th {\n",
       "        vertical-align: top;\n",
       "    }\n",
       "\n",
       "    .dataframe thead th {\n",
       "        text-align: right;\n",
       "    }\n",
       "</style>\n",
       "<table border=\"1\" class=\"dataframe\">\n",
       "  <thead>\n",
       "    <tr style=\"text-align: right;\">\n",
       "      <th></th>\n",
       "      <th>seller_address</th>\n",
       "      <th>seller_username</th>\n",
       "      <th>number_sales</th>\n",
       "      <th>min_price</th>\n",
       "      <th>max_price</th>\n",
       "      <th>mean_price</th>\n",
       "    </tr>\n",
       "  </thead>\n",
       "  <tbody>\n",
       "    <tr>\n",
       "      <th>0</th>\n",
       "      <td>0xfccb96245ece8c0c0ba80992a5719cba1e2f504f</td>\n",
       "      <td>SavageDogs</td>\n",
       "      <td>21</td>\n",
       "      <td>0.13</td>\n",
       "      <td>1.5</td>\n",
       "      <td>0.654286</td>\n",
       "    </tr>\n",
       "  </tbody>\n",
       "</table>\n",
       "</div>"
      ],
      "text/plain": [
       "                               seller_address seller_username  number_sales  \\\n",
       "0  0xfccb96245ece8c0c0ba80992a5719cba1e2f504f      SavageDogs            21   \n",
       "\n",
       "   min_price  max_price  mean_price  \n",
       "0       0.13        1.5    0.654286  "
      ]
     },
     "execution_count": 25,
     "metadata": {},
     "output_type": "execute_result"
    }
   ],
   "source": [
    "sellers = []\n",
    "for seller_address in savages_sales_df['seller_address'].value_counts().index[:10]:\n",
    "    seller_data = {}\n",
    "    seller_data['seller_address'] = seller_address\n",
    "    seller_data['seller_username'] = savages_sales_df[savages_sales_df['seller_address'] == seller_address]['seller_username'].iloc[0]\n",
    "    seller_data['number_sales'] = len(savages_sales_df[savages_sales_df['seller_address'] == seller_address])\n",
    "    seller_data['min_price'] = savages_sales_df[savages_sales_df['seller_address'] == seller_address]['total_price'].min()\n",
    "    seller_data['max_price'] = savages_sales_df[savages_sales_df['seller_address'] == seller_address]['total_price'].max()\n",
    "    seller_data['mean_price'] = savages_sales_df[savages_sales_df['seller_address'] == seller_address]['total_price'].mean()\n",
    "    sellers.append(seller_data)\n",
    "    \n",
    "pd.DataFrame(sellers)"
   ]
  },
  {
   "cell_type": "markdown",
   "metadata": {},
   "source": [
    "#### Intersection of Top 10 Buyers and Top 10 sellers"
   ]
  },
  {
   "cell_type": "code",
   "execution_count": 26,
   "metadata": {},
   "outputs": [
    {
     "name": "stdout",
     "output_type": "stream",
     "text": [
      "[]\n"
     ]
    }
   ],
   "source": [
    "top_10_buyers = savages_sales_df['buyer_username'].value_counts().index[:10]\n",
    "top_10_sellers = savages_sales_df['seller_username'].value_counts().index[:10]\n",
    "print(list(set(top_10_buyers) & set(top_10_sellers)))"
   ]
  },
  {
   "cell_type": "markdown",
   "metadata": {},
   "source": [
    "#### Getting Number of Sales between same Buyers and Sellers "
   ]
  },
  {
   "cell_type": "code",
   "execution_count": 27,
   "metadata": {},
   "outputs": [
    {
     "data": {
      "text/plain": [
       "1    16\n",
       "2     1\n",
       "3     1\n",
       "dtype: int64"
      ]
     },
     "execution_count": 27,
     "metadata": {},
     "output_type": "execute_result"
    }
   ],
   "source": [
    "(savages_sales_df['seller_address'] + savages_sales_df['buyer_address']).value_counts().value_counts()"
   ]
  },
  {
   "cell_type": "markdown",
   "metadata": {},
   "source": [
    "## Analyzing Average Price of Each Trait"
   ]
  },
  {
   "cell_type": "markdown",
   "metadata": {},
   "source": [
    "### Getting Top 10 savages Owners"
   ]
  },
  {
   "cell_type": "code",
   "execution_count": 28,
   "metadata": {},
   "outputs": [
    {
     "data": {
      "text/html": [
       "<div>\n",
       "<style scoped>\n",
       "    .dataframe tbody tr th:only-of-type {\n",
       "        vertical-align: middle;\n",
       "    }\n",
       "\n",
       "    .dataframe tbody tr th {\n",
       "        vertical-align: top;\n",
       "    }\n",
       "\n",
       "    .dataframe thead th {\n",
       "        text-align: right;\n",
       "    }\n",
       "</style>\n",
       "<table border=\"1\" class=\"dataframe\">\n",
       "  <thead>\n",
       "    <tr style=\"text-align: right;\">\n",
       "      <th></th>\n",
       "      <th>owner_address</th>\n",
       "      <th>owner_username</th>\n",
       "      <th>number_savages</th>\n",
       "    </tr>\n",
       "  </thead>\n",
       "  <tbody>\n",
       "    <tr>\n",
       "      <th>0</th>\n",
       "      <td>0x0000000000000000000000000000000000000000</td>\n",
       "      <td>NullAddress</td>\n",
       "      <td>7</td>\n",
       "    </tr>\n",
       "    <tr>\n",
       "      <th>1</th>\n",
       "      <td>0xe1ff19610020d72930aee1b9c047e35b7fd0080e</td>\n",
       "      <td>NinjaBoffin</td>\n",
       "      <td>6</td>\n",
       "    </tr>\n",
       "    <tr>\n",
       "      <th>2</th>\n",
       "      <td>0x44d5a0b1e165a17c16d940ca774a28e62d4b44b0</td>\n",
       "      <td>daliso</td>\n",
       "      <td>3</td>\n",
       "    </tr>\n",
       "    <tr>\n",
       "      <th>3</th>\n",
       "      <td>0x1e30bf87bc3d7ea53d9d6999fe886e6b20c8c9a4</td>\n",
       "      <td>veens</td>\n",
       "      <td>2</td>\n",
       "    </tr>\n",
       "    <tr>\n",
       "      <th>4</th>\n",
       "      <td>0x63f42bfc17b6ff3a7f487c406b8e006d0d4970c3</td>\n",
       "      <td>ultraparadise</td>\n",
       "      <td>2</td>\n",
       "    </tr>\n",
       "    <tr>\n",
       "      <th>5</th>\n",
       "      <td>0xa1447daa4d91e1c75eff3ee80b33e12935fbbec0</td>\n",
       "      <td>Hxden</td>\n",
       "      <td>1</td>\n",
       "    </tr>\n",
       "    <tr>\n",
       "      <th>6</th>\n",
       "      <td>0x784e1a0b0be5e64fefe67e7f483f0bd08ef4c13f</td>\n",
       "      <td>SionTheArtist</td>\n",
       "      <td>1</td>\n",
       "    </tr>\n",
       "    <tr>\n",
       "      <th>7</th>\n",
       "      <td>0xd59120f2a160c9862301c1f3bb5f171279f95512</td>\n",
       "      <td>Anocam</td>\n",
       "      <td>1</td>\n",
       "    </tr>\n",
       "    <tr>\n",
       "      <th>8</th>\n",
       "      <td>0xb02c3a77a6631bb1598080d77ca596f1f69b3f60</td>\n",
       "      <td>NoSleepJon</td>\n",
       "      <td>1</td>\n",
       "    </tr>\n",
       "    <tr>\n",
       "      <th>9</th>\n",
       "      <td>0x76591d601c932ff2a9a6d35b8d74d09f2e7b3593</td>\n",
       "      <td>AK_Evernew</td>\n",
       "      <td>1</td>\n",
       "    </tr>\n",
       "  </tbody>\n",
       "</table>\n",
       "</div>"
      ],
      "text/plain": [
       "                                owner_address owner_username  number_savages\n",
       "0  0x0000000000000000000000000000000000000000    NullAddress               7\n",
       "1  0xe1ff19610020d72930aee1b9c047e35b7fd0080e    NinjaBoffin               6\n",
       "2  0x44d5a0b1e165a17c16d940ca774a28e62d4b44b0         daliso               3\n",
       "3  0x1e30bf87bc3d7ea53d9d6999fe886e6b20c8c9a4          veens               2\n",
       "4  0x63f42bfc17b6ff3a7f487c406b8e006d0d4970c3  ultraparadise               2\n",
       "5  0xa1447daa4d91e1c75eff3ee80b33e12935fbbec0          Hxden               1\n",
       "6  0x784e1a0b0be5e64fefe67e7f483f0bd08ef4c13f  SionTheArtist               1\n",
       "7  0xd59120f2a160c9862301c1f3bb5f171279f95512         Anocam               1\n",
       "8  0xb02c3a77a6631bb1598080d77ca596f1f69b3f60     NoSleepJon               1\n",
       "9  0x76591d601c932ff2a9a6d35b8d74d09f2e7b3593     AK_Evernew               1"
      ]
     },
     "execution_count": 28,
     "metadata": {},
     "output_type": "execute_result"
    }
   ],
   "source": [
    "owners = []\n",
    "for owner_address in savages_df['owner_address'].value_counts().index[:10]:\n",
    "    owner_data = {}\n",
    "    owner_data['owner_address'] = owner_address\n",
    "    owner_data['owner_username'] = savages_df[savages_df['owner_address'] == owner_address]['owner_username'].iloc[0]\n",
    "    owner_data['number_savages'] = len(savages_df[savages_df['owner_address'] == owner_address])\n",
    "    owners.append(owner_data)\n",
    "\n",
    "pd.DataFrame(owners)"
   ]
  },
  {
   "cell_type": "code",
   "execution_count": 29,
   "metadata": {},
   "outputs": [
    {
     "name": "stdout",
     "output_type": "stream",
     "text": [
      "There are 2 unique savages creators.\n",
      "There are 42 unique savages owners.\n"
     ]
    }
   ],
   "source": [
    "#### Getting total number of savage Creators and Owners.\n",
    "print(\"There are %d unique savages creators.\" % len(savages_df['creator_address'].unique()))\n",
    "print(\"There are %d unique savages owners.\" % len(savages_df['owner_address'].unique()))"
   ]
  },
  {
   "cell_type": "markdown",
   "metadata": {},
   "source": [
    "# Visualizations"
   ]
  },
  {
   "cell_type": "markdown",
   "metadata": {},
   "source": [
    "### savages Sales Timelines\n",
    "\n",
    "#### Total Number of Sales per Day"
   ]
  },
  {
   "cell_type": "code",
   "execution_count": 30,
   "metadata": {},
   "outputs": [
    {
     "data": {
      "image/png": "[encoded data removed]",
      "text/plain": [
       "<Figure size 1440x720 with 1 Axes>"
      ]
     },
     "metadata": {},
     "output_type": "display_data"
    }
   ],
   "source": [
    "data = savages_sales_df[['timestamp', 'total_price']].resample('D', on='timestamp').count()['total_price']\n",
    "data = pd.DataFrame(data)\n",
    "data.columns = ['Count savages Sold']\n",
    "#ax = data.plot.bar(figsize=(18, 5))\n",
    "\n",
    "plt.figure(figsize=(20,10))\n",
    "ax = sns.barplot(x=data.index, y=data['Count savages Sold'], palette=\"winter\")\n",
    "plt.xlabel(\"Date\")\n",
    "plt.title(\"Sales Count\")\n",
    "\n",
    "ax.set_xticklabels(ax.get_xticklabels(),rotation = 30);\n",
    "ax.xaxis.set_major_locator(plt.MaxNLocator(100));"
   ]
  },
  {
   "cell_type": "markdown",
   "metadata": {},
   "source": [
    "#### Total Sales per Day in ETH"
   ]
  },
  {
   "cell_type": "code",
   "execution_count": 31,
   "metadata": {},
   "outputs": [
    {
     "data": {
      "image/png": "[encoded data removed]",
      "text/plain": [
       "<Figure size 1440x720 with 1 Axes>"
      ]
     },
     "metadata": {},
     "output_type": "display_data"
    }
   ],
   "source": [
    "data = savages_sales_df[['timestamp', 'total_price']].resample('D', on='timestamp').sum()['total_price']\n",
    "data = pd.DataFrame(data)\n",
    "data.columns = ['total_price']\n",
    "\n",
    "plt.figure(figsize=(20,10))\n",
    "ax=sns.barplot(x=data.index, y=data['total_price'], palette=\"winter\")\n",
    "plt.xlabel(\"Date\", rotation=45)\n",
    "plt.title(\"Sales Count\")\n",
    "\n",
    "ax.set_title(\"Timeline of Total savage Sales in ETH\", fontsize=18)\n",
    "ax.set_ylabel(\"Sales in ETH\", fontsize=18);\n"
   ]
  },
  {
   "cell_type": "markdown",
   "metadata": {},
   "source": [
    "#### Total Sales per day in USD"
   ]
  },
  {
   "cell_type": "code",
   "execution_count": 32,
   "metadata": {},
   "outputs": [
    {
     "data": {
      "image/png": "[encoded data removed]",
      "text/plain": [
       "<Figure size 1296x432 with 1 Axes>"
      ]
     },
     "metadata": {},
     "output_type": "display_data"
    }
   ],
   "source": [
    "data = savages_sales_df[['timestamp', 'total_price_usd']].resample('D', on='timestamp').sum()['total_price_usd']\n",
    "ax = data.plot(figsize=(18,6), color=\"purple\", linewidth=1, marker='o', markerfacecolor='grey', markeredgewidth=0)\n",
    "\n",
    "ax.set_alpha(0.8)\n",
    "ax.set_title(\"Timeline of Daily savage Sales in Million USD\", fontsize=18)\n",
    "ax.set_ylabel(\"Sales in Million USD\", fontsize=18);\n",
    "\n",
    "dates = list(data.index)\n",
    "values = list(data.values)\n",
    "\n",
    "for idx,(i, j) in enumerate(zip(dates, values)):\n",
    "    if idx % 3 == 0:\n",
    "        ax.annotate(text=\"{:.2f}\".format(j/10.**6), xy=(i, j), rotation=45)"
   ]
  },
  {
   "cell_type": "markdown",
   "metadata": {},
   "source": [
    "### savages Sales Prices Timelines "
   ]
  },
  {
   "cell_type": "markdown",
   "metadata": {},
   "source": [
    "#### Average savage Price per Day in ETH "
   ]
  },
  {
   "cell_type": "code",
   "execution_count": 33,
   "metadata": {},
   "outputs": [
    {
     "data": {
      "image/png": "[encoded data removed]",
      "text/plain": [
       "<Figure size 1296x432 with 1 Axes>"
      ]
     },
     "metadata": {},
     "output_type": "display_data"
    }
   ],
   "source": [
    "data = savages_sales_df[['timestamp', 'total_price']].resample('D', on='timestamp').mean()['total_price']\n",
    "ax = data.plot(figsize=(18,6), color=\"green\", linewidth=1, marker='o', markerfacecolor='grey', markeredgewidth=0)\n",
    "\n",
    "ax.set_alpha(0.8)\n",
    "ax.set_title(\"Timeline of Average SOLD savage Price in ETH\", fontsize=18)\n",
    "ax.set_ylabel(\"Average Price in ETH\", fontsize=18);\n",
    "#ax.annotate(s='sdsdsds', xy=(1, 1))\n",
    "\n",
    "dates = list(data.index)\n",
    "values = list(data.values)"
   ]
  },
  {
   "cell_type": "markdown",
   "metadata": {},
   "source": [
    "#### Floor savage Price per Day in ETH"
   ]
  },
  {
   "cell_type": "code",
   "execution_count": 34,
   "metadata": {},
   "outputs": [
    {
     "data": {
      "image/png": "[encoded data removed]",
      "text/plain": [
       "<Figure size 1296x432 with 1 Axes>"
      ]
     },
     "metadata": {},
     "output_type": "display_data"
    }
   ],
   "source": [
    "data = savages_sales_df[['timestamp', 'total_price']].resample('D', on='timestamp').min()['total_price']\n",
    "ax = data.plot(figsize=(18,6), color=\"orange\", linewidth=1, marker='o', markerfacecolor='grey', markeredgewidth=0)\n",
    "\n",
    "ax.set_alpha(0.8)\n",
    "ax.set_title(\"Timeline of Floor savage Price in ETH\", fontsize=18)\n",
    "ax.set_ylabel(\"Floor Price in ETH\", fontsize=18);\n",
    "\n",
    "dates = list(data.index)\n",
    "values = list(data.values)\n",
    "\n",
    "for d, v in zip(dates, values):\n",
    "    ax.annotate(text=\"{:.5f}\".format(v), xy=(d, v), rotation=45);"
   ]
  },
  {
   "cell_type": "markdown",
   "metadata": {},
   "source": [
    "#### Max savage Price per Day in ETH"
   ]
  },
  {
   "cell_type": "code",
   "execution_count": 35,
   "metadata": {},
   "outputs": [
    {
     "data": {
      "image/png": "[encoded data removed]",
      "text/plain": [
       "<Figure size 1296x432 with 1 Axes>"
      ]
     },
     "metadata": {},
     "output_type": "display_data"
    }
   ],
   "source": [
    "data = savages_sales_df[['timestamp', 'total_price']].resample('D', on='timestamp').max()['total_price']\n",
    "ax = data.plot(figsize=(18,6), color=\"red\", linewidth=1, marker='o', markerfacecolor='grey', markeredgewidth=0)\n",
    "\n",
    "ax.set_alpha(0.8)\n",
    "ax.set_title(\"Timeline of Max savage Price in ETH\", fontsize=18)\n",
    "ax.set_ylabel(\"Max Price in ETH\", fontsize=18);\n",
    "\n",
    "dates = list(data.index)\n",
    "values = list(data.values)\n",
    "\n",
    "for i, j in zip(dates, values):\n",
    "    ax.annotate(text=\"{:.0f}\".format(j), xy=(i, j+5), rotation=45);"
   ]
  },
  {
   "cell_type": "code",
   "execution_count": null,
   "metadata": {},
   "outputs": [],
   "source": []
  },
  {
   "cell_type": "markdown",
   "metadata": {},
   "source": [
    "\n",
    "# References\n",
    "\n",
    "[0] [Data mining Meebits](http://adilmoujahid.com/posts/2021/06/data-mining-meebits-nfts-python-opensea/)\n",
    "\n",
    "[1] [Fungibility - Wikipedia](https://en.wikipedia.org/wiki/Fungibility)\n",
    "\n",
    "[2] [A Practical Introduction to NFTs using Solidity and Legos](http://adilmoujahid.com/posts/2021/05/intro-nfts-solidity/)\n",
    "\n",
    "[3] [Counterparty - Wikipedia](https://bit.ly/3h6IfMU)\n",
    "\n",
    "[4] [Counterparty - Bitcoinwiki](https://bit.ly/2T79teI)\n",
    "\n",
    "[5] [Rare Pepe Gets Blockchained, Made Into Tradable Counterparty Tokens](https://news.bitcoin.com/rare-pepe-assets-get-blockchained/)"
   ]
  },
  {
   "cell_type": "code",
   "execution_count": null,
   "metadata": {},
   "outputs": [],
   "source": []
  }
 ],
 "metadata": {
  "kernelspec": {
   "display_name": "Python 3",
   "language": "python",
   "name": "python3"
  },
  "language_info": {
   "codemirror_mode": {
    "name": "ipython",
    "version": 3
   },
   "file_extension": ".py",
   "mimetype": "text/x-python",
   "name": "python",
   "nbconvert_exporter": "python",
   "pygments_lexer": "ipython3",
   "version": "3.8.8"
  }
 },
 "nbformat": 4,
 "nbformat_minor": 2
}
