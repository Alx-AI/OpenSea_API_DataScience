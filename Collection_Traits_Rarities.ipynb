{
 "cells": [
  {
   "cell_type": "code",
   "execution_count": 5,
   "id": "29dc1851",
   "metadata": {},
   "outputs": [],
   "source": [
    "from download import download_asset_info, download_event_info\n",
    "from load import load_assets_info, load_events_info\n",
    "from datetime import date, timedelta, datetime\n",
    "import os\n",
    "import pandas as pd\n",
    "import time\n",
    "import umap\n",
    "import numpy as np\n",
    "from sklearn.preprocessing import StandardScaler\n",
    "\n",
    "import matplotlib.pyplot as plt\n",
    "%matplotlib inline\n",
    "import seaborn as sns"
   ]
  },
  {
   "cell_type": "code",
   "execution_count": 7,
   "id": "2e4e7b8c",
   "metadata": {},
   "outputs": [],
   "source": [
    "# make a dict of all trait types e.g. eye type, weapon type, etc. and all values of that trait e.g. blue, submachine gun, etc.\n",
    "def all_trait_values_dict(dataset):\n",
    "    all_traits = {}\n",
    "    for asset in dataset:\n",
    "        for trait in asset['traits']:\n",
    "            # Check if the trait type exists in our dictionary, if not add it\n",
    "            if trait['trait_type'] not in all_traits:\n",
    "                all_traits[trait['trait_type']] = []\n",
    "            # Check if the trait type value exists in the list of values of the key otherwise add it\n",
    "            if trait['value'] not in all_traits[trait['trait_type']]:\n",
    "                all_traits[trait['trait_type']].append((trait['value'], trait['trait_count']))\n",
    "    \n",
    "    return all_traits\n",
    "\n",
    "# make a list of all unique trait types + values\n",
    "def all_trait_values_rarity(trait_values_dict):\n",
    "    rarity_dict = {}\n",
    "    for trait_type in trait_values_dict:\n",
    "        for value in trait_values_dict[trait_type]:\n",
    "            rarity_dict[(str(trait_type)+\"_\"+str(value[0]))] = value[1]\n",
    "    return rarity_dict"
   ]
  },
  {
   "cell_type": "code",
   "execution_count": 8,
   "id": "7b9904c0",
   "metadata": {},
   "outputs": [],
   "source": [
    "collection = {'asset_name':'droids','contract':\"0xa6794dec66df7d8b69752956df1b28ca93f77cd7\",'start_date':date(2021, 9, 7)}"
   ]
  },
  {
   "cell_type": "code",
   "execution_count": null,
   "id": "9e8acc37",
   "metadata": {},
   "outputs": [
    {
     "name": "stdout",
     "output_type": "stream",
     "text": [
      "0 1 2 3 4 5 6 7 8 9 10 11 12 13 14 15 16 17 18 19 20 21 22 23 24 25 26 27 28 29 30 31 32 33 34 35 36 37 38 39 40 41 42 43 44 45 46 47 48 49 50 51 52 53 54 55 56 57 58 59 60 61 62 63 64 65 66 67 68 69 70 71 72 73 74 75 76 77 78 79 80 81 82 83 84 85 86 87 88 89 90 91 92 93 94 95 96 "
     ]
    }
   ],
   "source": [
    "save_location = str(os.getcwd())+ \"\\\\static\\\\\" + collection['asset_name'] + \"\\\\\";\n",
    "download_asset_info(save_location, asset_name=collection['asset_name'], contract=collection['contract'], limit=1000, request_buffer=1)"
   ]
  },
  {
   "cell_type": "code",
   "execution_count": null,
   "id": "c8af499f",
   "metadata": {},
   "outputs": [],
   "source": [
    "dataset=((collection['asset_name'],load_assets_info(save_location, asset_name=collection['asset_name'])))\n",
    "assets = dataset[0][1]"
   ]
  },
  {
   "cell_type": "code",
   "execution_count": null,
   "id": "0895e229",
   "metadata": {},
   "outputs": [],
   "source": [
    "trait_values_dict = all_trait_values_dict(assets)"
   ]
  },
  {
   "cell_type": "code",
   "execution_count": null,
   "id": "622f6dc3",
   "metadata": {},
   "outputs": [],
   "source": [
    "rarity_dict = all_trait_values(trait_values_dict)"
   ]
  },
  {
   "cell_type": "code",
   "execution_count": null,
   "id": "fd517954",
   "metadata": {},
   "outputs": [],
   "source": [
    "df = pd.DataFrame.from_dict(rarity_dict)\n",
    "df"
   ]
  }
 ],
 "metadata": {
  "kernelspec": {
   "display_name": "Python 3",
   "language": "python",
   "name": "python3"
  },
  "language_info": {
   "codemirror_mode": {
    "name": "ipython",
    "version": 3
   },
   "file_extension": ".py",
   "mimetype": "text/x-python",
   "name": "python",
   "nbconvert_exporter": "python",
   "pygments_lexer": "ipython3",
   "version": "3.8.8"
  }
 },
 "nbformat": 4,
 "nbformat_minor": 5
}
